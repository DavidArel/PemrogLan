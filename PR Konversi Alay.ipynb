{
 "cells": [
  {
   "cell_type": "code",
   "execution_count": 3,
   "metadata": {},
   "outputs": [
    {
     "name": "stdin",
     "output_type": "stream",
     "text": [
      "Input kata :  ha iyyy\n"
     ]
    },
    {
     "name": "stdout",
     "output_type": "stream",
     "text": [
      "Konversi alay :  h@@__1yyy!?1!!!\n"
     ]
    }
   ],
   "source": [
    "#Program Konverter Alay\n",
    "#Marcellinus David Arel B / 18117003\n",
    "#Vio Wirafadhilagusta P. / 18117009\n",
    "kata_awal = input('Input kata : ')\n",
    "kata_akhir = \"\"\n",
    "for i in kata_awal:\n",
    "    if i == 'a':\n",
    "        kata_akhir += '@@'\n",
    "    elif i == 'o':\n",
    "        kata_akhir += 'o0'\n",
    "    elif i == 'i':\n",
    "        kata_akhir += '1'\n",
    "    elif i == ' ':\n",
    "        kata_akhir += '__'\n",
    "    else:\n",
    "        kata_akhir += i\n",
    "kata_akhir += '!?1!!!'\n",
    "print ('Konversi alay : ', kata_akhir)"
   ]
  },
  {
   "cell_type": "code",
   "execution_count": null,
   "metadata": {},
   "outputs": [],
   "source": []
  }
 ],
 "metadata": {
  "kernelspec": {
   "display_name": "Python 3",
   "language": "python",
   "name": "python3"
  },
  "language_info": {
   "codemirror_mode": {
    "name": "ipython",
    "version": 3
   },
   "file_extension": ".py",
   "mimetype": "text/x-python",
   "name": "python",
   "nbconvert_exporter": "python",
   "pygments_lexer": "ipython3",
   "version": "3.7.3"
  }
 },
 "nbformat": 4,
 "nbformat_minor": 4
}
