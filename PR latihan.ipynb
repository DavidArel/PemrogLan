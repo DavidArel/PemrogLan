{
 "cells": [
  {
   "cell_type": "code",
   "execution_count": 2,
   "metadata": {},
   "outputs": [
    {
     "name": "stdin",
     "output_type": "stream",
     "text": [
      "Input kata :  askakk\n"
     ]
    },
    {
     "name": "stdout",
     "output_type": "stream",
     "text": [
      "Konversi alay :  @@sk@@kk!?1!!!\n"
     ]
    }
   ],
   "source": [
    "#Program Konverter Alay\n",
    "#Marcellinus David Arel B / 18117003\n",
    "#Vio Wirafadhilagusta P. / 18117009\n",
    "kata_awal = input('Input kata : ')\n",
    "kata_akhir = \"\"\n",
    "for i in kata_awal:\n",
    "    if i == 'a':\n",
    "        kata_akhir += '@@'\n",
    "    elif i == 'o':\n",
    "        kata_akhir += 'o0'\n",
    "    elif i == 'i':\n",
    "        kata_akhir += '1'\n",
    "    elif i == ' ':\n",
    "        kata_akhir += '__'\n",
    "    else:\n",
    "        kata_akhir += i\n",
    "kata_akhir += '!?1!!!'\n",
    "print ('Konversi alay : ', kata_akhir)"
   ]
  },
  {
   "cell_type": "code",
   "execution_count": 6,
   "metadata": {},
   "outputs": [
    {
     "name": "stdout",
     "output_type": "stream",
     "text": [
      "[['O', 'O', 'O', 'O', 'O'], ['O', 'O', 'O', 'O', 'O'], ['O', 'O', 'O', 'O', 'O'], ['O', 'O', 'O', 'O', 'O'], ['O', 'O', 'O', 'O', 'O']]\n",
      "['O', 'O', 'O', 'O', 'O']\n",
      "['O', 'O', 'O', 'O', 'O']\n",
      "['O', 'O', 'O', 'O', 'O']\n",
      "['O', 'O', 'O', 'O', 'O']\n",
      "['O', 'O', 'O', 'O', 'O']\n"
     ]
    }
   ],
   "source": [
    "# tambah elemen berulang pd list\n",
    "board = []\n",
    "a = 5\n",
    "for i in range(5):\n",
    "    board.append([\"O\"]*5) #[\"O\",\"O\",\"O\",\"O\",\"O\"]\n",
    "print (board) #[[],..,[]]\n",
    "# print 1 row elemen, 1 baris\n",
    "board = []\n",
    "for i in range(5):\n",
    "    board.append([\"O\"]*5) #[\"O\",\"O\",\"O\",\"O\",\"O\"]\n",
    "def print_board(board):\n",
    "    for row in board: print (row)\n",
    "print_board(board)"
   ]
  },
  {
   "cell_type": "code",
   "execution_count": 11,
   "metadata": {},
   "outputs": [
    {
     "name": "stdout",
     "output_type": "stream",
     "text": [
      "Lucky Numbers! 3 numbers will be generated.\n",
      "If one of them is a '5', you lose!\n",
      "4\n",
      "5\n",
      "Sorry, you lose!\n"
     ]
    }
   ],
   "source": [
    "# 6 while else\n",
    "import random\n",
    "print (\"Lucky Numbers! 3 numbers will be generated.\")\n",
    "print (\"If one of them is a '5', you lose!\")\n",
    "count = 0\n",
    "while count < 3:\n",
    "    num = random.randint(1, 6)\n",
    "    print (num)\n",
    "    if num == 5:\n",
    "        print (\"Sorry, you lose!\")\n",
    "        break\n",
    "    count += 1\n",
    "else:\n",
    "    print (\"You win!\")\n",
    "#else dieksekusi setelah kondisi false; tdk pernah dieksekusi setelah break\n",
    "# ---"
   ]
  },
  {
   "cell_type": "code",
   "execution_count": 12,
   "metadata": {},
   "outputs": [
    {
     "name": "stdout",
     "output_type": "stream",
     "text": [
      "14\n",
      "norwegian blue\n",
      "NORWEGIAN BLUE\n",
      "3.14\n",
      "27\n",
      "THE MINISTRY OF SILLY WALKS\n"
     ]
    }
   ],
   "source": [
    "parrot = \"Norwegian Blue\"\n",
    "print (len(parrot)) \n",
    "#14\n",
    "# String methods: len(), lower(), upper(), str()\n",
    "parrot = \"Norwegian Blue\"\n",
    "print (parrot.lower() )\n",
    "print (parrot.upper())\n",
    "# to string\n",
    "pi=3.14\n",
    "print (str(pi))\n",
    "# review\n",
    "ministry = \"The Ministry of Silly Walks\"\n",
    "print (len(ministry)) \n",
    "print (ministry.upper())"
   ]
  },
  {
   "cell_type": "code",
   "execution_count": null,
   "metadata": {},
   "outputs": [],
   "source": []
  }
 ],
 "metadata": {
  "kernelspec": {
   "display_name": "Python 3",
   "language": "python",
   "name": "python3"
  },
  "language_info": {
   "codemirror_mode": {
    "name": "ipython",
    "version": 3
   },
   "file_extension": ".py",
   "mimetype": "text/x-python",
   "name": "python",
   "nbconvert_exporter": "python",
   "pygments_lexer": "ipython3",
   "version": "3.7.3"
  }
 },
 "nbformat": 4,
 "nbformat_minor": 4
}
