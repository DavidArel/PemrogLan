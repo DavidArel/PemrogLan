{
 "cells": [
  {
   "cell_type": "code",
   "execution_count": 179,
   "metadata": {},
   "outputs": [],
   "source": [
    "#PROGRAM UAS Pemrograman Lanjutan 18117003 - 18117009"
   ]
  },
  {
   "cell_type": "code",
   "execution_count": 180,
   "metadata": {},
   "outputs": [],
   "source": [
    "!pip install Sastrawi\n"
    "import pandas as pd\n",
    "import Sastrawi\n",
    "import re\n",
    
    "# import Sastrawi package\n",
    "from Sastrawi.Stemmer.StemmerFactory import StemmerFactory\n",
    "# create stemmer\n",
    "factory = StemmerFactory()\n",
    "stemmer = factory.create_stemmer()\n",
    "#output = stemmer.stem(sesuatu)\n",
    "data_kbbi = pd.read_csv('https://github.com/DavidArel/PemrogLan/blob/master/UAS/data_kata.csv')\n",
    "kbbi = data_kbbi['lema']"
   ]
  },
  {
   "cell_type": "code",
   "execution_count": 181,
   "metadata": {},
   "outputs": [],
   "source": [
    "def tokenize(text):\n",
    "    text = text.lower()\n",
    "    text = re.compile(u\"[^\\w\\n]|\\xe2\", re.UNICODE).sub(\" \", text)\n",
    "    text = text.split()\n",
    "    return text"
   ]
  },
  {
   "cell_type": "code",
   "execution_count": 182,
   "metadata": {},
   "outputs": [
    {
     "name": "stdout",
     "output_type": "stream",
     "text": [
      "Masukkan kalimat : ini adalah percobaan ke-satu hehehe\n",
      "Hasil penyederhanaan kata per kata : ['ini', 'adalah', 'coba', 'ke', 'satu', 'hehehe']\n"
     ]
    }
   ],
   "source": [
    "penyederhanaan =[]\n",
    "kalimat = input('Masukkan kalimat : ')\n",
    "array_kalimat = []\n",
    "proseskalimat = \"''\\''\"+kalimat\n",
    "array_kalimat = tokenize(proseskalimat)\n",
    "#Lanjut Penyederhanaan\n",
    "for i in array_kalimat:\n",
    "    penyederhanaan.append(stemmer.stem(i))\n",
    "print ('Hasil penyederhanaan kata per kata :',penyederhanaan)"
   ]
  },
  {
   "cell_type": "code",
   "execution_count": 185,
   "metadata": {},
   "outputs": [
    {
     "name": "stdout",
     "output_type": "stream",
     "text": [
      "Jumlah kata yang sudah baku:  5\n",
      "Jumlah kata yang belum baku:  1\n",
      "Kata - kata yang belum baku:  ['hehehe']\n"
     ]
    }
   ],
   "source": [
    "#PROSES fAInd-kata Baku\n",
    "tak_baku =[]\n",
    "trigger_kata = 0\n",
    "counter_tabaku = 0\n",
    "\n",
    "for kata in penyederhanaan:\n",
    "    is_baku = False\n",
    "    for baku in kbbi:\n",
    "        if kata == baku:\n",
    "            trigger_kata +=1\n",
    "            is_baku = True\n",
    "            break\n",
    "    if (not(is_baku)):    \n",
    "        tak_baku.append(kata)\n",
    "        counter_tabaku +=1\n",
    "print('Jumlah kata yang sudah baku: ',trigger_kata)\n",
    "print('Jumlah kata yang belum baku: ',counter_tabaku)\n",
    "print('Kata - kata yang belum baku: ',tak_baku)\n"
   ]
  },
  {
   "cell_type": "code",
   "execution_count": null,
   "metadata": {},
   "outputs": [],
   "source": []
  },
  {
   "cell_type": "code",
   "execution_count": null,
   "metadata": {},
   "outputs": [],
   "source": []
  },
  {
   "cell_type": "code",
   "execution_count": null,
   "metadata": {},
   "outputs": [],
   "source": []
  },
  {
   "cell_type": "code",
   "execution_count": null,
   "metadata": {},
   "outputs": [],
   "source": []
  },
  {
   "cell_type": "code",
   "execution_count": null,
   "metadata": {},
   "outputs": [],
   "source": []
  },
  {
   "cell_type": "code",
   "execution_count": null,
   "metadata": {},
   "outputs": [],
   "source": []
  },
  {
   "cell_type": "code",
   "execution_count": null,
   "metadata": {},
   "outputs": [],
   "source": []
  }
 ],
 "metadata": {
  "kernelspec": {
   "display_name": "Python 3",
   "language": "python",
   "name": "python3"
  },
  "language_info": {
   "codemirror_mode": {
    "name": "ipython",
    "version": 3
   },
   "file_extension": ".py",
   "mimetype": "text/x-python",
   "name": "python",
   "nbconvert_exporter": "python",
   "pygments_lexer": "ipython3",
   "version": "3.7.3"
  }
 },
 "nbformat": 4,
 "nbformat_minor": 2
}
